








import pandas as pd
import numpy as np
import sklearn as sk
from sklearn.model_selection import train_test_split
from sklearn.linear_model import LogisticRegression





dataSet = pd.read_csv(r"DataClean.csv", sep=";")


x = dataSet[['vibration','inclination','humidity','precipitation']]
y = dataSet['output']


xTrain, xTest, yTrain, yTest = train_test_split(x , y, train_size=0.8, random_state = 10)


xTrain , xTest


yTrain , yTest




















landSlideModel = LogisticRegression()


landSlideModel.fit(xTrain, yTrain)


predict = landSlideModel.predict_proba(xTest[0:9])


def prediction(value) :
    if   value < 0.75 or value <= 1 :
        print("Status : Awas!, Prob : {:.2f} %".format(value*100))
        return 'DANGER'
    elif value < 0.5  or value <= 0.75 :
        print("Status : Siaga!, Prob : {:.2f} %".format(value*100))
        return 'ALERT'
    elif value < 0.25 or value <= 0.5 :
        print("Status : Siap!, Prob : {:.2f} %".format(value*100))
        return 'WARNING'
    else :
        print("Status : Aman!, Prob : {:.2f} %".format(value*100))
        return 'SAFE'


result = pd.DataFrame(predict)


result[1]


for i in result[1] :
    prediction(i)


print(landSlideModel.coef_)
print(landSlideModel.intercept_)


landSlideModel.score(xTest,yTest)

















dataTest = xTest[0:9]


result = pd.DataFrame(landSlideModel.predict_proba(dataTest))


dataTest , result[1]


dataTest = dataTest.reset_index()


dataTest['Probability'] = result[1]


dataTest


dataTest = dataTest.drop(['index'], axis=1)


dataTest


dataTest = dataTest.assign(Status = prediction(dataTest.Probability))









