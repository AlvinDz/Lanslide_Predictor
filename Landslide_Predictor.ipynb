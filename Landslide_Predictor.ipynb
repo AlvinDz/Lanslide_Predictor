{
 "cells": [
  {
   "cell_type": "markdown",
   "id": "cd026e2c-793a-4c83-919e-08787f0be713",
   "metadata": {},
   "source": [
    "# Logistic Regression Based Landslide Predictor\n",
    "By : Alvin Dzaki Pratama Darmawan"
   ]
  },
  {
   "cell_type": "markdown",
   "id": "4906dd76-05dd-4254-94bf-462f2608a6c2",
   "metadata": {},
   "source": [
    "## A. Data Preparation"
   ]
  },
  {
   "cell_type": "markdown",
   "id": "79f4abbd-c8f1-49bf-b8df-b32a42ac4a40",
   "metadata": {},
   "source": [
    "### 1. library importing"
   ]
  },
  {
   "cell_type": "code",
   "execution_count": 392,
   "id": "db6dd43c-36da-4f24-82cd-028413ff8c10",
   "metadata": {},
   "outputs": [],
   "source": [
    "import pandas as pd\n",
    "import numpy as np\n",
    "import sklearn as sk\n",
    "from sklearn.model_selection import train_test_split\n",
    "from sklearn.linear_model import LogisticRegression\n",
    "from sklearn.metrics import ConfusionMatrixDisplay\n",
    "from sklearn.datasets import make_classification\n",
    "import joblib"
   ]
  },
  {
   "cell_type": "markdown",
   "id": "ff43d2aa-2961-468f-ab7a-b5a480a547c4",
   "metadata": {},
   "source": [
    "### 2. Data Set Importing"
   ]
  },
  {
   "cell_type": "code",
   "execution_count": 116,
   "id": "89eb914d-40d3-4fc2-aaab-a1ffae20d411",
   "metadata": {},
   "outputs": [],
   "source": [
    "dataSet = pd.read_csv(r\"DataClean.csv\", sep=\";\")"
   ]
  },
  {
   "cell_type": "code",
   "execution_count": 118,
   "id": "d209b612-3fb5-46fe-9d29-27e48c66b53f",
   "metadata": {},
   "outputs": [],
   "source": [
    "x = dataSet[['vibration','inclination','humidity','precipitation']]\n",
    "y = dataSet['output']"
   ]
  },
  {
   "cell_type": "code",
   "execution_count": 120,
   "id": "4a3101e6-130f-4b91-ad0c-47312d5237e2",
   "metadata": {},
   "outputs": [],
   "source": [
    "xTrain, xTest, yTrain, yTest = train_test_split(x , y, train_size=0.8, random_state = 10)"
   ]
  },
  {
   "cell_type": "code",
   "execution_count": 122,
   "id": "89cfecf9-be41-4530-bd16-24e201dcdcbe",
   "metadata": {},
   "outputs": [
    {
     "data": {
      "text/plain": [
       "(     vibration  inclination  humidity  precipitation\n",
       " 379      160.0        34.00      0.17         0.0000\n",
       " 99       150.5        60.08      0.58         0.0000\n",
       " 52       316.3        30.15      0.41         0.0000\n",
       " 245       18.9        36.52      0.78         0.0000\n",
       " 383      160.0        55.00      0.62         0.0000\n",
       " ..         ...          ...       ...            ...\n",
       " 369      160.0        55.00      0.62         0.0000\n",
       " 320      224.4        34.83      0.55         2.5500\n",
       " 15       185.8        48.73      0.66         0.0255\n",
       " 125      120.1        56.52      0.58         0.0000\n",
       " 265        1.6        32.57      0.76         0.0000\n",
       " \n",
       " [340 rows x 4 columns],\n",
       "      vibration  inclination  humidity  precipitation\n",
       " 402      160.0        34.00      0.06           0.00\n",
       " 322      234.5        34.00      0.38           2.55\n",
       " 47       370.3        55.00      0.62           0.00\n",
       " 423     1656.2        54.04      0.60           0.00\n",
       " 191       63.6        32.53      0.75           0.00\n",
       " ..         ...          ...       ...            ...\n",
       " 412      160.0        40.90      0.00           0.00\n",
       " 269      272.1        34.83      0.45          15.30\n",
       " 183       66.8        41.16      0.54           0.00\n",
       " 278      160.0        34.83      0.56           7.65\n",
       " 324      298.0        33.29      0.53           2.55\n",
       " \n",
       " [85 rows x 4 columns])"
      ]
     },
     "execution_count": 122,
     "metadata": {},
     "output_type": "execute_result"
    }
   ],
   "source": [
    "xTrain , xTest"
   ]
  },
  {
   "cell_type": "code",
   "execution_count": 124,
   "id": "4ee92e00-a5bc-4915-9edd-9033cc6f7c35",
   "metadata": {},
   "outputs": [
    {
     "data": {
      "text/plain": [
       "(379    1\n",
       " 99     0\n",
       " 52     0\n",
       " 245    0\n",
       " 383    1\n",
       "       ..\n",
       " 369    1\n",
       " 320    1\n",
       " 15     0\n",
       " 125    0\n",
       " 265    0\n",
       " Name: output, Length: 340, dtype: int64,\n",
       " 402    1\n",
       " 322    1\n",
       " 47     0\n",
       " 423    1\n",
       " 191    0\n",
       "       ..\n",
       " 412    1\n",
       " 269    1\n",
       " 183    0\n",
       " 278    1\n",
       " 324    1\n",
       " Name: output, Length: 85, dtype: int64)"
      ]
     },
     "execution_count": 124,
     "metadata": {},
     "output_type": "execute_result"
    }
   ],
   "source": [
    "yTrain , yTest"
   ]
  },
  {
   "cell_type": "markdown",
   "id": "458ffe46-ca02-4569-b128-199ccc65edb1",
   "metadata": {},
   "source": [
    "### 3. Visualizations"
   ]
  },
  {
   "cell_type": "markdown",
   "id": "bc231b30-8bbd-4d1e-b3ad-fd74b7324922",
   "metadata": {},
   "source": [
    "## B. Model Preparation"
   ]
  },
  {
   "cell_type": "markdown",
   "id": "1b0a27c7-13bf-42e8-9793-75c0c150f9b9",
   "metadata": {},
   "source": [
    "### 1. Machine Learning Model"
   ]
  },
  {
   "cell_type": "markdown",
   "id": "1213a22d-2e2f-4b69-9101-029b6100ba62",
   "metadata": {},
   "source": [
    "Base regression model :\n",
    "\n",
    "$\\hat{y} = w_1\\omega + w_2\\theta + w_3\\rho + w_4\\xi + b$\n",
    "\n",
    "Logistical model :\n",
    "\n",
    "$g(\\hat{y}) = \\cfrac{1}{1+e^{-{w_1\\omega + w_2\\theta + w_3\\rho + w_4\\xi + b}}}$\n",
    "\n",
    "where :\n",
    "- $\\omega$ = vibration (gal)\n",
    "- $\\theta$ = inclination angle (deg)\n",
    "- $\\rho$   = humidity (%)\n",
    "- $\\xi$    = precipitation (mm)"
   ]
  },
  {
   "cell_type": "markdown",
   "id": "d8f5aa68-dfb9-4ee6-98a7-24cd28bc7ed7",
   "metadata": {},
   "source": [
    "## C. Model Training"
   ]
  },
  {
   "cell_type": "markdown",
   "id": "5f549c51-4e4b-47b2-ad0c-9d335f82a27b",
   "metadata": {},
   "source": [
    "### 1. Training"
   ]
  },
  {
   "cell_type": "code",
   "execution_count": 132,
   "id": "6d1e086a-a234-421d-b024-4df9358fa2c2",
   "metadata": {},
   "outputs": [],
   "source": [
    "landSlideModel = LogisticRegression()"
   ]
  },
  {
   "cell_type": "code",
   "execution_count": 134,
   "id": "85a0b924-3248-4f49-acba-6036f5c44a39",
   "metadata": {},
   "outputs": [
    {
     "data": {
      "text/html": [
       "<style>#sk-container-id-2 {color: black;}#sk-container-id-2 pre{padding: 0;}#sk-container-id-2 div.sk-toggleable {background-color: white;}#sk-container-id-2 label.sk-toggleable__label {cursor: pointer;display: block;width: 100%;margin-bottom: 0;padding: 0.3em;box-sizing: border-box;text-align: center;}#sk-container-id-2 label.sk-toggleable__label-arrow:before {content: \"▸\";float: left;margin-right: 0.25em;color: #696969;}#sk-container-id-2 label.sk-toggleable__label-arrow:hover:before {color: black;}#sk-container-id-2 div.sk-estimator:hover label.sk-toggleable__label-arrow:before {color: black;}#sk-container-id-2 div.sk-toggleable__content {max-height: 0;max-width: 0;overflow: hidden;text-align: left;background-color: #f0f8ff;}#sk-container-id-2 div.sk-toggleable__content pre {margin: 0.2em;color: black;border-radius: 0.25em;background-color: #f0f8ff;}#sk-container-id-2 input.sk-toggleable__control:checked~div.sk-toggleable__content {max-height: 200px;max-width: 100%;overflow: auto;}#sk-container-id-2 input.sk-toggleable__control:checked~label.sk-toggleable__label-arrow:before {content: \"▾\";}#sk-container-id-2 div.sk-estimator input.sk-toggleable__control:checked~label.sk-toggleable__label {background-color: #d4ebff;}#sk-container-id-2 div.sk-label input.sk-toggleable__control:checked~label.sk-toggleable__label {background-color: #d4ebff;}#sk-container-id-2 input.sk-hidden--visually {border: 0;clip: rect(1px 1px 1px 1px);clip: rect(1px, 1px, 1px, 1px);height: 1px;margin: -1px;overflow: hidden;padding: 0;position: absolute;width: 1px;}#sk-container-id-2 div.sk-estimator {font-family: monospace;background-color: #f0f8ff;border: 1px dotted black;border-radius: 0.25em;box-sizing: border-box;margin-bottom: 0.5em;}#sk-container-id-2 div.sk-estimator:hover {background-color: #d4ebff;}#sk-container-id-2 div.sk-parallel-item::after {content: \"\";width: 100%;border-bottom: 1px solid gray;flex-grow: 1;}#sk-container-id-2 div.sk-label:hover label.sk-toggleable__label {background-color: #d4ebff;}#sk-container-id-2 div.sk-serial::before {content: \"\";position: absolute;border-left: 1px solid gray;box-sizing: border-box;top: 0;bottom: 0;left: 50%;z-index: 0;}#sk-container-id-2 div.sk-serial {display: flex;flex-direction: column;align-items: center;background-color: white;padding-right: 0.2em;padding-left: 0.2em;position: relative;}#sk-container-id-2 div.sk-item {position: relative;z-index: 1;}#sk-container-id-2 div.sk-parallel {display: flex;align-items: stretch;justify-content: center;background-color: white;position: relative;}#sk-container-id-2 div.sk-item::before, #sk-container-id-2 div.sk-parallel-item::before {content: \"\";position: absolute;border-left: 1px solid gray;box-sizing: border-box;top: 0;bottom: 0;left: 50%;z-index: -1;}#sk-container-id-2 div.sk-parallel-item {display: flex;flex-direction: column;z-index: 1;position: relative;background-color: white;}#sk-container-id-2 div.sk-parallel-item:first-child::after {align-self: flex-end;width: 50%;}#sk-container-id-2 div.sk-parallel-item:last-child::after {align-self: flex-start;width: 50%;}#sk-container-id-2 div.sk-parallel-item:only-child::after {width: 0;}#sk-container-id-2 div.sk-dashed-wrapped {border: 1px dashed gray;margin: 0 0.4em 0.5em 0.4em;box-sizing: border-box;padding-bottom: 0.4em;background-color: white;}#sk-container-id-2 div.sk-label label {font-family: monospace;font-weight: bold;display: inline-block;line-height: 1.2em;}#sk-container-id-2 div.sk-label-container {text-align: center;}#sk-container-id-2 div.sk-container {/* jupyter's `normalize.less` sets `[hidden] { display: none; }` but bootstrap.min.css set `[hidden] { display: none !important; }` so we also need the `!important` here to be able to override the default hidden behavior on the sphinx rendered scikit-learn.org. See: https://github.com/scikit-learn/scikit-learn/issues/21755 */display: inline-block !important;position: relative;}#sk-container-id-2 div.sk-text-repr-fallback {display: none;}</style><div id=\"sk-container-id-2\" class=\"sk-top-container\"><div class=\"sk-text-repr-fallback\"><pre>LogisticRegression()</pre><b>In a Jupyter environment, please rerun this cell to show the HTML representation or trust the notebook. <br />On GitHub, the HTML representation is unable to render, please try loading this page with nbviewer.org.</b></div><div class=\"sk-container\" hidden><div class=\"sk-item\"><div class=\"sk-estimator sk-toggleable\"><input class=\"sk-toggleable__control sk-hidden--visually\" id=\"sk-estimator-id-2\" type=\"checkbox\" checked><label for=\"sk-estimator-id-2\" class=\"sk-toggleable__label sk-toggleable__label-arrow\">LogisticRegression</label><div class=\"sk-toggleable__content\"><pre>LogisticRegression()</pre></div></div></div></div></div>"
      ],
      "text/plain": [
       "LogisticRegression()"
      ]
     },
     "execution_count": 134,
     "metadata": {},
     "output_type": "execute_result"
    }
   ],
   "source": [
    "landSlideModel.fit(xTrain, yTrain)"
   ]
  },
  {
   "cell_type": "code",
   "execution_count": 136,
   "id": "ad4b2cf0-1812-47c0-917f-0fe4430c7244",
   "metadata": {},
   "outputs": [],
   "source": [
    "predict = landSlideModel.predict_proba(xTest[0:9])"
   ]
  },
  {
   "cell_type": "code",
   "execution_count": 330,
   "id": "974dcf60-de29-4ef2-99c6-47417d1fb1dc",
   "metadata": {},
   "outputs": [],
   "source": [
    "def prediction(value) :\n",
    "    if   value > 0.75 or value >= 1 :\n",
    "        print(\"Status : Awas!, Prob : {:.2f} %\".format(value*100))\n",
    "        return 'DANGER'\n",
    "    elif value > 0.5  or value >= 0.75 :\n",
    "        print(\"Status : Siaga!, Prob : {:.2f} %\".format(value*100))\n",
    "        return 'ALERT'\n",
    "    elif value > 0.25 or value >= 0.5 :\n",
    "        print(\"Status : Siap!, Prob : {:.2f} %\".format(value*100))\n",
    "        return 'WARNING'\n",
    "    else :\n",
    "        print(\"Status : Aman!, Prob : {:.2f} %\".format(value*100))\n",
    "        return 'SAFE'"
   ]
  },
  {
   "cell_type": "code",
   "execution_count": 332,
   "id": "a2e1a0c0-9fe0-4087-866b-25acafb17f81",
   "metadata": {},
   "outputs": [],
   "source": [
    "result = pd.DataFrame(predict)"
   ]
  },
  {
   "cell_type": "code",
   "execution_count": 334,
   "id": "7cbec84e-8a59-4f1a-b75c-86dfb254710e",
   "metadata": {},
   "outputs": [
    {
     "data": {
      "text/plain": [
       "0    0.385049\n",
       "1    0.996160\n",
       "2    0.385993\n",
       "3    0.948212\n",
       "4    0.114123\n",
       "5    0.177614\n",
       "6    0.164703\n",
       "7    0.112982\n",
       "8    0.281666\n",
       "Name: 1, dtype: float64"
      ]
     },
     "execution_count": 334,
     "metadata": {},
     "output_type": "execute_result"
    }
   ],
   "source": [
    "result[1]"
   ]
  },
  {
   "cell_type": "code",
   "execution_count": 336,
   "id": "8a9a5b2d-7404-46f4-b6ed-6870a421a115",
   "metadata": {},
   "outputs": [
    {
     "name": "stdout",
     "output_type": "stream",
     "text": [
      "Status : Siap!, Prob : 38.50 %\n",
      "Status : Awas!, Prob : 99.62 %\n",
      "Status : Siap!, Prob : 38.60 %\n",
      "Status : Awas!, Prob : 94.82 %\n",
      "Status : Aman!, Prob : 11.41 %\n",
      "Status : Aman!, Prob : 17.76 %\n",
      "Status : Aman!, Prob : 16.47 %\n",
      "Status : Aman!, Prob : 11.30 %\n",
      "Status : Siap!, Prob : 28.17 %\n"
     ]
    }
   ],
   "source": [
    "for i in result[1] :\n",
    "    prediction(i)"
   ]
  },
  {
   "cell_type": "code",
   "execution_count": 273,
   "id": "cb5b3ef9-6027-4abb-9050-79a921721498",
   "metadata": {},
   "outputs": [
    {
     "name": "stdout",
     "output_type": "stream",
     "text": [
      "[[ 0.00261077  0.02405787 -1.87548632  2.52244123]]\n",
      "[-1.5913359]\n"
     ]
    }
   ],
   "source": [
    "print(landSlideModel.coef_)\n",
    "print(landSlideModel.intercept_)"
   ]
  },
  {
   "cell_type": "code",
   "execution_count": 275,
   "id": "b8f8791d-9738-496b-a47c-b4f7049b88bf",
   "metadata": {},
   "outputs": [
    {
     "data": {
      "text/plain": [
       "0.8470588235294118"
      ]
     },
     "execution_count": 275,
     "metadata": {},
     "output_type": "execute_result"
    }
   ],
   "source": [
    "landSlideModel.score(xTest,yTest)"
   ]
  },
  {
   "cell_type": "markdown",
   "id": "f837506b-ff58-40a4-852a-f5bdbdfbed27",
   "metadata": {},
   "source": [
    "## D. Final Model"
   ]
  },
  {
   "cell_type": "markdown",
   "id": "fcf5c194-6870-47f8-9adc-8011eff2fc3d",
   "metadata": {},
   "source": [
    "From the training process, we get the following weights for the overall model\n",
    "\n",
    "- $w_1$ for $\\omega$ is $0.00261077$\n",
    "- $w_2$ for $\\theta$ is $0.02405787$\n",
    "- $w_3$ for $\\rho$   is $-1.87548632$\n",
    "- $w_4$ for $\\xi$    is $2.52244123$\n",
    "\n",
    "And intercept or bias value $b = -1.5913359$"
   ]
  },
  {
   "cell_type": "markdown",
   "id": "74ac693b-507e-4d9d-ac28-a1855d693cde",
   "metadata": {},
   "source": [
    "Therefore, the base linear regression function becomes :\n",
    "\n",
    "$y = 0.00261077\\hat{\\omega} + 0.02405787\\hat{\\theta} -1.87548632\\hat{\\rho} + 2.52244123\\hat{\\xi} -1.5913359$"
   ]
  },
  {
   "cell_type": "markdown",
   "id": "65d9cd08-752a-411b-9c30-afb567ee7939",
   "metadata": {},
   "source": [
    "And the logistic function\n",
    "\n",
    "$g(y) = \\cfrac{1}{1 + e^{-0.00261077\\hat{\\omega} - 0.02405787\\hat{\\theta} +1.87548632\\hat{\\rho} - 2.52244123\\hat{\\xi} + 1.5913359}}$"
   ]
  },
  {
   "cell_type": "markdown",
   "id": "8f178d4d-ce50-48fa-964e-b4a6c201ad29",
   "metadata": {},
   "source": [
    "## E. Other Tests"
   ]
  },
  {
   "cell_type": "code",
   "execution_count": 354,
   "id": "eb47e112-cf20-4ce4-8d56-6a3d104e5b2a",
   "metadata": {},
   "outputs": [],
   "source": [
    "dataTest = xTest[0:10]"
   ]
  },
  {
   "cell_type": "code",
   "execution_count": 356,
   "id": "ee98b22a-992b-4fac-ae35-7bf686c9d603",
   "metadata": {},
   "outputs": [],
   "source": [
    "result = pd.DataFrame(landSlideModel.predict_proba(dataTest))"
   ]
  },
  {
   "cell_type": "code",
   "execution_count": 358,
   "id": "1b634eae-1c84-4a2e-b287-61bbec236717",
   "metadata": {},
   "outputs": [
    {
     "data": {
      "text/plain": [
       "(     vibration  inclination  humidity  precipitation\n",
       " 402      160.0        34.00      0.06          0.000\n",
       " 322      234.5        34.00      0.38          2.550\n",
       " 47       370.3        55.00      0.62          0.000\n",
       " 423     1656.2        54.04      0.60          0.000\n",
       " 191       63.6        32.53      0.75          0.000\n",
       " 384      160.0        36.53      0.66          0.000\n",
       " 222       41.0        44.88      0.65          0.000\n",
       " 172       73.1        27.13      0.70          0.000\n",
       " 81       189.5        55.00      0.62          0.000\n",
       " 1        165.2        47.72      0.66          0.051,\n",
       " 0    0.385049\n",
       " 1    0.996160\n",
       " 2    0.385993\n",
       " 3    0.948212\n",
       " 4    0.114123\n",
       " 5    0.177614\n",
       " 6    0.164703\n",
       " 7    0.112982\n",
       " 8    0.281666\n",
       " 9    0.245794\n",
       " Name: 1, dtype: float64)"
      ]
     },
     "execution_count": 358,
     "metadata": {},
     "output_type": "execute_result"
    }
   ],
   "source": [
    "dataTest , result[1]"
   ]
  },
  {
   "cell_type": "code",
   "execution_count": 360,
   "id": "b08b9897-3574-4e17-b763-6e6d10fe4c15",
   "metadata": {},
   "outputs": [],
   "source": [
    "dataTest = dataTest.reset_index()"
   ]
  },
  {
   "cell_type": "code",
   "execution_count": 362,
   "id": "da570982-512d-4e7a-822c-c6a5716ad9f9",
   "metadata": {},
   "outputs": [],
   "source": [
    "dataTest['Probability'] = result[1]"
   ]
  },
  {
   "cell_type": "code",
   "execution_count": 364,
   "id": "4b0cff39-41c7-4838-8f0b-0b39fd1758de",
   "metadata": {},
   "outputs": [
    {
     "data": {
      "text/html": [
       "<div>\n",
       "<style scoped>\n",
       "    .dataframe tbody tr th:only-of-type {\n",
       "        vertical-align: middle;\n",
       "    }\n",
       "\n",
       "    .dataframe tbody tr th {\n",
       "        vertical-align: top;\n",
       "    }\n",
       "\n",
       "    .dataframe thead th {\n",
       "        text-align: right;\n",
       "    }\n",
       "</style>\n",
       "<table border=\"1\" class=\"dataframe\">\n",
       "  <thead>\n",
       "    <tr style=\"text-align: right;\">\n",
       "      <th></th>\n",
       "      <th>index</th>\n",
       "      <th>vibration</th>\n",
       "      <th>inclination</th>\n",
       "      <th>humidity</th>\n",
       "      <th>precipitation</th>\n",
       "      <th>Probability</th>\n",
       "    </tr>\n",
       "  </thead>\n",
       "  <tbody>\n",
       "    <tr>\n",
       "      <th>0</th>\n",
       "      <td>402</td>\n",
       "      <td>160.0</td>\n",
       "      <td>34.00</td>\n",
       "      <td>0.06</td>\n",
       "      <td>0.000</td>\n",
       "      <td>0.385049</td>\n",
       "    </tr>\n",
       "    <tr>\n",
       "      <th>1</th>\n",
       "      <td>322</td>\n",
       "      <td>234.5</td>\n",
       "      <td>34.00</td>\n",
       "      <td>0.38</td>\n",
       "      <td>2.550</td>\n",
       "      <td>0.996160</td>\n",
       "    </tr>\n",
       "    <tr>\n",
       "      <th>2</th>\n",
       "      <td>47</td>\n",
       "      <td>370.3</td>\n",
       "      <td>55.00</td>\n",
       "      <td>0.62</td>\n",
       "      <td>0.000</td>\n",
       "      <td>0.385993</td>\n",
       "    </tr>\n",
       "    <tr>\n",
       "      <th>3</th>\n",
       "      <td>423</td>\n",
       "      <td>1656.2</td>\n",
       "      <td>54.04</td>\n",
       "      <td>0.60</td>\n",
       "      <td>0.000</td>\n",
       "      <td>0.948212</td>\n",
       "    </tr>\n",
       "    <tr>\n",
       "      <th>4</th>\n",
       "      <td>191</td>\n",
       "      <td>63.6</td>\n",
       "      <td>32.53</td>\n",
       "      <td>0.75</td>\n",
       "      <td>0.000</td>\n",
       "      <td>0.114123</td>\n",
       "    </tr>\n",
       "    <tr>\n",
       "      <th>5</th>\n",
       "      <td>384</td>\n",
       "      <td>160.0</td>\n",
       "      <td>36.53</td>\n",
       "      <td>0.66</td>\n",
       "      <td>0.000</td>\n",
       "      <td>0.177614</td>\n",
       "    </tr>\n",
       "    <tr>\n",
       "      <th>6</th>\n",
       "      <td>222</td>\n",
       "      <td>41.0</td>\n",
       "      <td>44.88</td>\n",
       "      <td>0.65</td>\n",
       "      <td>0.000</td>\n",
       "      <td>0.164703</td>\n",
       "    </tr>\n",
       "    <tr>\n",
       "      <th>7</th>\n",
       "      <td>172</td>\n",
       "      <td>73.1</td>\n",
       "      <td>27.13</td>\n",
       "      <td>0.70</td>\n",
       "      <td>0.000</td>\n",
       "      <td>0.112982</td>\n",
       "    </tr>\n",
       "    <tr>\n",
       "      <th>8</th>\n",
       "      <td>81</td>\n",
       "      <td>189.5</td>\n",
       "      <td>55.00</td>\n",
       "      <td>0.62</td>\n",
       "      <td>0.000</td>\n",
       "      <td>0.281666</td>\n",
       "    </tr>\n",
       "    <tr>\n",
       "      <th>9</th>\n",
       "      <td>1</td>\n",
       "      <td>165.2</td>\n",
       "      <td>47.72</td>\n",
       "      <td>0.66</td>\n",
       "      <td>0.051</td>\n",
       "      <td>0.245794</td>\n",
       "    </tr>\n",
       "  </tbody>\n",
       "</table>\n",
       "</div>"
      ],
      "text/plain": [
       "   index  vibration  inclination  humidity  precipitation  Probability\n",
       "0    402      160.0        34.00      0.06          0.000     0.385049\n",
       "1    322      234.5        34.00      0.38          2.550     0.996160\n",
       "2     47      370.3        55.00      0.62          0.000     0.385993\n",
       "3    423     1656.2        54.04      0.60          0.000     0.948212\n",
       "4    191       63.6        32.53      0.75          0.000     0.114123\n",
       "5    384      160.0        36.53      0.66          0.000     0.177614\n",
       "6    222       41.0        44.88      0.65          0.000     0.164703\n",
       "7    172       73.1        27.13      0.70          0.000     0.112982\n",
       "8     81      189.5        55.00      0.62          0.000     0.281666\n",
       "9      1      165.2        47.72      0.66          0.051     0.245794"
      ]
     },
     "execution_count": 364,
     "metadata": {},
     "output_type": "execute_result"
    }
   ],
   "source": [
    "dataTest"
   ]
  },
  {
   "cell_type": "code",
   "execution_count": 366,
   "id": "293e1416-143f-408d-9b0a-5e28ab180192",
   "metadata": {},
   "outputs": [],
   "source": [
    "dataTest = dataTest.drop(['index'], axis=1)"
   ]
  },
  {
   "cell_type": "code",
   "execution_count": 368,
   "id": "6247a1ad-fd09-4448-ad6c-9e4ccc2e4794",
   "metadata": {},
   "outputs": [
    {
     "data": {
      "text/html": [
       "<div>\n",
       "<style scoped>\n",
       "    .dataframe tbody tr th:only-of-type {\n",
       "        vertical-align: middle;\n",
       "    }\n",
       "\n",
       "    .dataframe tbody tr th {\n",
       "        vertical-align: top;\n",
       "    }\n",
       "\n",
       "    .dataframe thead th {\n",
       "        text-align: right;\n",
       "    }\n",
       "</style>\n",
       "<table border=\"1\" class=\"dataframe\">\n",
       "  <thead>\n",
       "    <tr style=\"text-align: right;\">\n",
       "      <th></th>\n",
       "      <th>vibration</th>\n",
       "      <th>inclination</th>\n",
       "      <th>humidity</th>\n",
       "      <th>precipitation</th>\n",
       "      <th>Probability</th>\n",
       "    </tr>\n",
       "  </thead>\n",
       "  <tbody>\n",
       "    <tr>\n",
       "      <th>0</th>\n",
       "      <td>160.0</td>\n",
       "      <td>34.00</td>\n",
       "      <td>0.06</td>\n",
       "      <td>0.000</td>\n",
       "      <td>0.385049</td>\n",
       "    </tr>\n",
       "    <tr>\n",
       "      <th>1</th>\n",
       "      <td>234.5</td>\n",
       "      <td>34.00</td>\n",
       "      <td>0.38</td>\n",
       "      <td>2.550</td>\n",
       "      <td>0.996160</td>\n",
       "    </tr>\n",
       "    <tr>\n",
       "      <th>2</th>\n",
       "      <td>370.3</td>\n",
       "      <td>55.00</td>\n",
       "      <td>0.62</td>\n",
       "      <td>0.000</td>\n",
       "      <td>0.385993</td>\n",
       "    </tr>\n",
       "    <tr>\n",
       "      <th>3</th>\n",
       "      <td>1656.2</td>\n",
       "      <td>54.04</td>\n",
       "      <td>0.60</td>\n",
       "      <td>0.000</td>\n",
       "      <td>0.948212</td>\n",
       "    </tr>\n",
       "    <tr>\n",
       "      <th>4</th>\n",
       "      <td>63.6</td>\n",
       "      <td>32.53</td>\n",
       "      <td>0.75</td>\n",
       "      <td>0.000</td>\n",
       "      <td>0.114123</td>\n",
       "    </tr>\n",
       "    <tr>\n",
       "      <th>5</th>\n",
       "      <td>160.0</td>\n",
       "      <td>36.53</td>\n",
       "      <td>0.66</td>\n",
       "      <td>0.000</td>\n",
       "      <td>0.177614</td>\n",
       "    </tr>\n",
       "    <tr>\n",
       "      <th>6</th>\n",
       "      <td>41.0</td>\n",
       "      <td>44.88</td>\n",
       "      <td>0.65</td>\n",
       "      <td>0.000</td>\n",
       "      <td>0.164703</td>\n",
       "    </tr>\n",
       "    <tr>\n",
       "      <th>7</th>\n",
       "      <td>73.1</td>\n",
       "      <td>27.13</td>\n",
       "      <td>0.70</td>\n",
       "      <td>0.000</td>\n",
       "      <td>0.112982</td>\n",
       "    </tr>\n",
       "    <tr>\n",
       "      <th>8</th>\n",
       "      <td>189.5</td>\n",
       "      <td>55.00</td>\n",
       "      <td>0.62</td>\n",
       "      <td>0.000</td>\n",
       "      <td>0.281666</td>\n",
       "    </tr>\n",
       "    <tr>\n",
       "      <th>9</th>\n",
       "      <td>165.2</td>\n",
       "      <td>47.72</td>\n",
       "      <td>0.66</td>\n",
       "      <td>0.051</td>\n",
       "      <td>0.245794</td>\n",
       "    </tr>\n",
       "  </tbody>\n",
       "</table>\n",
       "</div>"
      ],
      "text/plain": [
       "   vibration  inclination  humidity  precipitation  Probability\n",
       "0      160.0        34.00      0.06          0.000     0.385049\n",
       "1      234.5        34.00      0.38          2.550     0.996160\n",
       "2      370.3        55.00      0.62          0.000     0.385993\n",
       "3     1656.2        54.04      0.60          0.000     0.948212\n",
       "4       63.6        32.53      0.75          0.000     0.114123\n",
       "5      160.0        36.53      0.66          0.000     0.177614\n",
       "6       41.0        44.88      0.65          0.000     0.164703\n",
       "7       73.1        27.13      0.70          0.000     0.112982\n",
       "8      189.5        55.00      0.62          0.000     0.281666\n",
       "9      165.2        47.72      0.66          0.051     0.245794"
      ]
     },
     "execution_count": 368,
     "metadata": {},
     "output_type": "execute_result"
    }
   ],
   "source": [
    "dataTest"
   ]
  },
  {
   "cell_type": "code",
   "execution_count": 370,
   "id": "999211d4-0e76-4ff2-be64-f485f25db2cd",
   "metadata": {},
   "outputs": [
    {
     "name": "stdout",
     "output_type": "stream",
     "text": [
      "Status : Siap!, Prob : 38.50 %\n",
      "Status : Awas!, Prob : 99.62 %\n",
      "Status : Siap!, Prob : 38.60 %\n",
      "Status : Awas!, Prob : 94.82 %\n",
      "Status : Aman!, Prob : 11.41 %\n",
      "Status : Aman!, Prob : 17.76 %\n",
      "Status : Aman!, Prob : 16.47 %\n",
      "Status : Aman!, Prob : 11.30 %\n",
      "Status : Siap!, Prob : 28.17 %\n",
      "Status : Aman!, Prob : 24.58 %\n"
     ]
    }
   ],
   "source": [
    "status = []\n",
    "for i in result[1] :\n",
    "    stat = prediction(i)\n",
    "    status.append(stat)"
   ]
  },
  {
   "cell_type": "code",
   "execution_count": 372,
   "id": "33e4f621-b10e-4e85-b2a7-f296ee4ee4c2",
   "metadata": {},
   "outputs": [],
   "source": [
    "status = pd.DataFrame(status)"
   ]
  },
  {
   "cell_type": "code",
   "execution_count": 374,
   "id": "69d22ca1-e642-421a-82a1-0407c3221a2f",
   "metadata": {},
   "outputs": [
    {
     "data": {
      "text/html": [
       "<div>\n",
       "<style scoped>\n",
       "    .dataframe tbody tr th:only-of-type {\n",
       "        vertical-align: middle;\n",
       "    }\n",
       "\n",
       "    .dataframe tbody tr th {\n",
       "        vertical-align: top;\n",
       "    }\n",
       "\n",
       "    .dataframe thead th {\n",
       "        text-align: right;\n",
       "    }\n",
       "</style>\n",
       "<table border=\"1\" class=\"dataframe\">\n",
       "  <thead>\n",
       "    <tr style=\"text-align: right;\">\n",
       "      <th></th>\n",
       "      <th>0</th>\n",
       "    </tr>\n",
       "  </thead>\n",
       "  <tbody>\n",
       "    <tr>\n",
       "      <th>0</th>\n",
       "      <td>WARNING</td>\n",
       "    </tr>\n",
       "    <tr>\n",
       "      <th>1</th>\n",
       "      <td>DANGER</td>\n",
       "    </tr>\n",
       "    <tr>\n",
       "      <th>2</th>\n",
       "      <td>WARNING</td>\n",
       "    </tr>\n",
       "    <tr>\n",
       "      <th>3</th>\n",
       "      <td>DANGER</td>\n",
       "    </tr>\n",
       "    <tr>\n",
       "      <th>4</th>\n",
       "      <td>SAFE</td>\n",
       "    </tr>\n",
       "    <tr>\n",
       "      <th>5</th>\n",
       "      <td>SAFE</td>\n",
       "    </tr>\n",
       "    <tr>\n",
       "      <th>6</th>\n",
       "      <td>SAFE</td>\n",
       "    </tr>\n",
       "    <tr>\n",
       "      <th>7</th>\n",
       "      <td>SAFE</td>\n",
       "    </tr>\n",
       "    <tr>\n",
       "      <th>8</th>\n",
       "      <td>WARNING</td>\n",
       "    </tr>\n",
       "    <tr>\n",
       "      <th>9</th>\n",
       "      <td>SAFE</td>\n",
       "    </tr>\n",
       "  </tbody>\n",
       "</table>\n",
       "</div>"
      ],
      "text/plain": [
       "         0\n",
       "0  WARNING\n",
       "1   DANGER\n",
       "2  WARNING\n",
       "3   DANGER\n",
       "4     SAFE\n",
       "5     SAFE\n",
       "6     SAFE\n",
       "7     SAFE\n",
       "8  WARNING\n",
       "9     SAFE"
      ]
     },
     "execution_count": 374,
     "metadata": {},
     "output_type": "execute_result"
    }
   ],
   "source": [
    "status"
   ]
  },
  {
   "cell_type": "code",
   "execution_count": 376,
   "id": "bf52bfd5-8a7c-439c-b704-8cffe8b658bf",
   "metadata": {},
   "outputs": [],
   "source": [
    "dataTest['Status'] = status"
   ]
  },
  {
   "cell_type": "code",
   "execution_count": 378,
   "id": "054eff84-3ddc-4838-942e-c6bee40ca4f0",
   "metadata": {},
   "outputs": [
    {
     "data": {
      "text/html": [
       "<div>\n",
       "<style scoped>\n",
       "    .dataframe tbody tr th:only-of-type {\n",
       "        vertical-align: middle;\n",
       "    }\n",
       "\n",
       "    .dataframe tbody tr th {\n",
       "        vertical-align: top;\n",
       "    }\n",
       "\n",
       "    .dataframe thead th {\n",
       "        text-align: right;\n",
       "    }\n",
       "</style>\n",
       "<table border=\"1\" class=\"dataframe\">\n",
       "  <thead>\n",
       "    <tr style=\"text-align: right;\">\n",
       "      <th></th>\n",
       "      <th>vibration</th>\n",
       "      <th>inclination</th>\n",
       "      <th>humidity</th>\n",
       "      <th>precipitation</th>\n",
       "      <th>Probability</th>\n",
       "      <th>Status</th>\n",
       "    </tr>\n",
       "  </thead>\n",
       "  <tbody>\n",
       "    <tr>\n",
       "      <th>0</th>\n",
       "      <td>160.0</td>\n",
       "      <td>34.00</td>\n",
       "      <td>0.06</td>\n",
       "      <td>0.000</td>\n",
       "      <td>0.385049</td>\n",
       "      <td>WARNING</td>\n",
       "    </tr>\n",
       "    <tr>\n",
       "      <th>1</th>\n",
       "      <td>234.5</td>\n",
       "      <td>34.00</td>\n",
       "      <td>0.38</td>\n",
       "      <td>2.550</td>\n",
       "      <td>0.996160</td>\n",
       "      <td>DANGER</td>\n",
       "    </tr>\n",
       "    <tr>\n",
       "      <th>2</th>\n",
       "      <td>370.3</td>\n",
       "      <td>55.00</td>\n",
       "      <td>0.62</td>\n",
       "      <td>0.000</td>\n",
       "      <td>0.385993</td>\n",
       "      <td>WARNING</td>\n",
       "    </tr>\n",
       "    <tr>\n",
       "      <th>3</th>\n",
       "      <td>1656.2</td>\n",
       "      <td>54.04</td>\n",
       "      <td>0.60</td>\n",
       "      <td>0.000</td>\n",
       "      <td>0.948212</td>\n",
       "      <td>DANGER</td>\n",
       "    </tr>\n",
       "    <tr>\n",
       "      <th>4</th>\n",
       "      <td>63.6</td>\n",
       "      <td>32.53</td>\n",
       "      <td>0.75</td>\n",
       "      <td>0.000</td>\n",
       "      <td>0.114123</td>\n",
       "      <td>SAFE</td>\n",
       "    </tr>\n",
       "    <tr>\n",
       "      <th>5</th>\n",
       "      <td>160.0</td>\n",
       "      <td>36.53</td>\n",
       "      <td>0.66</td>\n",
       "      <td>0.000</td>\n",
       "      <td>0.177614</td>\n",
       "      <td>SAFE</td>\n",
       "    </tr>\n",
       "    <tr>\n",
       "      <th>6</th>\n",
       "      <td>41.0</td>\n",
       "      <td>44.88</td>\n",
       "      <td>0.65</td>\n",
       "      <td>0.000</td>\n",
       "      <td>0.164703</td>\n",
       "      <td>SAFE</td>\n",
       "    </tr>\n",
       "    <tr>\n",
       "      <th>7</th>\n",
       "      <td>73.1</td>\n",
       "      <td>27.13</td>\n",
       "      <td>0.70</td>\n",
       "      <td>0.000</td>\n",
       "      <td>0.112982</td>\n",
       "      <td>SAFE</td>\n",
       "    </tr>\n",
       "    <tr>\n",
       "      <th>8</th>\n",
       "      <td>189.5</td>\n",
       "      <td>55.00</td>\n",
       "      <td>0.62</td>\n",
       "      <td>0.000</td>\n",
       "      <td>0.281666</td>\n",
       "      <td>WARNING</td>\n",
       "    </tr>\n",
       "    <tr>\n",
       "      <th>9</th>\n",
       "      <td>165.2</td>\n",
       "      <td>47.72</td>\n",
       "      <td>0.66</td>\n",
       "      <td>0.051</td>\n",
       "      <td>0.245794</td>\n",
       "      <td>SAFE</td>\n",
       "    </tr>\n",
       "  </tbody>\n",
       "</table>\n",
       "</div>"
      ],
      "text/plain": [
       "   vibration  inclination  humidity  precipitation  Probability   Status\n",
       "0      160.0        34.00      0.06          0.000     0.385049  WARNING\n",
       "1      234.5        34.00      0.38          2.550     0.996160   DANGER\n",
       "2      370.3        55.00      0.62          0.000     0.385993  WARNING\n",
       "3     1656.2        54.04      0.60          0.000     0.948212   DANGER\n",
       "4       63.6        32.53      0.75          0.000     0.114123     SAFE\n",
       "5      160.0        36.53      0.66          0.000     0.177614     SAFE\n",
       "6       41.0        44.88      0.65          0.000     0.164703     SAFE\n",
       "7       73.1        27.13      0.70          0.000     0.112982     SAFE\n",
       "8      189.5        55.00      0.62          0.000     0.281666  WARNING\n",
       "9      165.2        47.72      0.66          0.051     0.245794     SAFE"
      ]
     },
     "execution_count": 378,
     "metadata": {},
     "output_type": "execute_result"
    }
   ],
   "source": [
    "dataTest"
   ]
  },
  {
   "cell_type": "code",
   "execution_count": 388,
   "id": "efc6f19a-ff65-4128-b48b-e3dff04e1727",
   "metadata": {},
   "outputs": [
    {
     "data": {
      "image/png": "[encoded data removed]",
      "text/plain": [
       "<Figure size 640x480 with 2 Axes>"
      ]
     },
     "metadata": {},
     "output_type": "display_data"
    }
   ],
   "source": [
    "_ = ConfusionMatrixDisplay.from_estimator(landSlideModel, xTest, yTest)"
   ]
  },
  {
   "cell_type": "code",
   "execution_count": 390,
   "id": "c3234755-6444-4f6d-918d-26e15fda49cd",
   "metadata": {},
   "outputs": [
    {
     "data": {
      "image/png": "[encoded data removed]",
      "text/plain": [
       "<Figure size 640x480 with 2 Axes>"
      ]
     },
     "metadata": {},
     "output_type": "display_data"
    }
   ],
   "source": [
    "a = ConfusionMatrixDisplay.from_estimator(landSlideModel, xTrain, yTrain)"
   ]
  },
  {
   "cell_type": "code",
   "execution_count": 394,
   "id": "93201bf7-4992-4d74-958a-42b78eb45760",
   "metadata": {},
   "outputs": [
    {
     "data": {
      "text/plain": [
       "['Land_Slide_Model_Predictor.pkl']"
      ]
     },
     "execution_count": 394,
     "metadata": {},
     "output_type": "execute_result"
    }
   ],
   "source": [
    "joblib.dump(landSlideModel, \"Land_Slide_Model_Predictor.pkl\")"
   ]
  },
  {
   "cell_type": "code",
   "execution_count": null,
   "id": "27f83cc0-b338-4bb3-b53f-c4161c342790",
   "metadata": {},
   "outputs": [],
   "source": []
  }
 ],
 "metadata": {
  "kernelspec": {
   "display_name": "Python 3 (ipykernel)",
   "language": "python",
   "name": "python3"
  },
  "language_info": {
   "codemirror_mode": {
    "name": "ipython",
    "version": 3
   },
   "file_extension": ".py",
   "mimetype": "text/x-python",
   "name": "python",
   "nbconvert_exporter": "python",
   "pygments_lexer": "ipython3",
   "version": "3.11.5"
  }
 },
 "nbformat": 4,
 "nbformat_minor": 5
}
